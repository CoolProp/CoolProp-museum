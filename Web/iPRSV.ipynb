{
 "metadata": {
  "name": ""
 },
 "nbformat": 3,
 "nbformat_minor": 0,
 "worksheets": [
  {
   "cells": [
    {
     "cell_type": "markdown",
     "metadata": {},
     "source": [
      "The iPSRV from Teus van der Stelt et al.\n",
      "$$\\kappa = \\kappa_0+\\kappa_1\\left\\lbrace \\sqrt{[A-D(T_r+B)]^2+E}+A-D(T_r+B) \\right\\rbrace\\sqrt{T_r+C}$$\n",
      "$$\\kappa_0 = 0.378893 + 1.4897153\\omega-0.17131848\\omega^2+0.0196554\\omega^3$$\n",
      "$$ p = \\frac{RT}{v-b}-\\frac{a}{v^2+2 b v-b^2}$$\n",
      "with\n",
      "A = 1.1\n",
      "B = 0.25\n",
      "C = 0.2\n",
      "D = 1.2\n",
      "E = 0.01\n",
      "\n",
      "For ethanol, the value $\\kappa_1$ is -0.03374\n",
      "\n",
      "For water, the value $\\kappa_1$ is -0.06635"
     ]
    },
    {
     "cell_type": "code",
     "collapsed": false,
     "input": [
      "from CoolProp.CoolProp import Props\n",
      "from math import sqrt\n",
      "import numpy as np\n",
      "import matplotlib.pyplot as plt\n",
      "import scipy.optimize\n",
      "%matplotlib inline"
     ],
     "language": "python",
     "metadata": {},
     "outputs": [],
     "prompt_number": 234
    },
    {
     "cell_type": "code",
     "collapsed": false,
     "input": [
      "kappa_dict = dict(Ethanol = -0.03374,\n",
      "                  Water = -0.06635,\n",
      "                  Propane = 0.03161)"
     ],
     "language": "python",
     "metadata": {},
     "outputs": [],
     "prompt_number": 235
    },
    {
     "cell_type": "heading",
     "level": 2,
     "metadata": {},
     "source": [
      "Pure Fluids"
     ]
    },
    {
     "cell_type": "code",
     "collapsed": false,
     "input": [
      "T = 300 #[K]\n",
      "p = 3000 #[kPa]\n",
      "Fluid = 'Propane'\n",
      "rhoc = Props(Fluid,'rhocrit') #[kg/m^3]\n",
      "omega = Props(Fluid,'accentric') #[-]\n",
      "R = 8.314472/(Props(Fluid,'molemass'))\n",
      "Tc = Props(Fluid,'Tcrit')\n",
      "pc = Props(Fluid,'pcrit')\n",
      "T_r = T/Tc\n",
      "kappa_1 = kappa_dict[Fluid]\n",
      "rho_EOS = Props('D','T',T,'P',p,Fluid)"
     ],
     "language": "python",
     "metadata": {},
     "outputs": [],
     "prompt_number": 236
    },
    {
     "cell_type": "code",
     "collapsed": false,
     "input": [
      "Ts = np.linspace(Props(Fluid,'Ttriple'),Tc,300)\n",
      "ps = Props('P','T',Ts,'Q',1,Fluid)\n",
      "plt.plot(Ts,ps)\n",
      "plt.xlabel('T [K]')\n",
      "plt.ylabel('p [kPa]')\n",
      "plt.yscale('log')\n",
      "plt.plot(T,p,'o')"
     ],
     "language": "python",
     "metadata": {},
     "outputs": [
      {
       "metadata": {},
       "output_type": "pyout",
       "prompt_number": 237,
       "text": [
        "[<matplotlib.lines.Line2D at 0x9f147b0>]"
       ]
      },
      {
       "metadata": {},
       "output_type": "display_data",
       "png": "[encoded data removed]",
       "text": [
        "<matplotlib.figure.Figure at 0x8f0ec70>"
       ]
      }
     ],
     "prompt_number": 237
    },
    {
     "cell_type": "code",
     "collapsed": false,
     "input": [
      "A = 1.1\n",
      "B = 0.25\n",
      "C = 0.2\n",
      "D = 1.2\n",
      "E = 0.01\n",
      "kappa_0 = 0.378893 + 1.4897153*omega-0.17131848*omega**2+0.0196554*omega**3\n",
      "kappa = kappa_0+kappa_1*(sqrt((A-D*(T_r+B))**2+E)+A-D*(T_r+B) )*sqrt(T_r+C)\n",
      "alpha = (1+kappa*(1-sqrt(T_r)))**2\n",
      "a = 0.457235*R**2*Tc**2/pc*alpha\n",
      "b = 0.077796*R*Tc/pc"
     ],
     "language": "python",
     "metadata": {},
     "outputs": [],
     "prompt_number": 238
    },
    {
     "cell_type": "code",
     "collapsed": false,
     "input": [
      "A = a*p/(R*R*T*T)\n",
      "B = b*p/(R*T)"
     ],
     "language": "python",
     "metadata": {},
     "outputs": [],
     "prompt_number": 239
    },
    {
     "cell_type": "code",
     "collapsed": false,
     "input": [
      "Z = np.linspace(0,1)\n",
      "def f(Z):\n",
      "    return 1*Z**3+(-1+B)*Z**2+ (A-3*B*B-2*B)*Z -A*B+B**2+B**3\n",
      "plt.plot(Z,f(Z))\n",
      "plt.axhline(0,linestyle = '--')"
     ],
     "language": "python",
     "metadata": {},
     "outputs": [
      {
       "metadata": {},
       "output_type": "pyout",
       "prompt_number": 240,
       "text": [
        "<matplotlib.lines.Line2D at 0xa403f90>"
       ]
      },
      {
       "metadata": {},
       "output_type": "display_data",
       "png": "[encoded data removed]",
       "text": [
        "<matplotlib.figure.Figure at 0xa313f70>"
       ]
      }
     ],
     "prompt_number": 240
    },
    {
     "cell_type": "code",
     "collapsed": false,
     "input": [
      "Z = np.roots([1,B-1,A-2*B-3*B*B,-A*B+B**2+B**3])\n",
      "rho = p/(Z*R*T) # Z = p/(rho*R*T)\n",
      "rho"
     ],
     "language": "python",
     "metadata": {},
     "outputs": [
      {
       "metadata": {},
       "output_type": "pyout",
       "prompt_number": 241,
       "text": [
        "array([  69.42536782-63.64922759j,   69.42536782+63.64922759j,\n",
        "        518.88328530 +0.j        ])"
       ]
      }
     ],
     "prompt_number": 241
    },
    {
     "cell_type": "code",
     "collapsed": false,
     "input": [
      "rho_EOS"
     ],
     "language": "python",
     "metadata": {},
     "outputs": [
      {
       "metadata": {},
       "output_type": "pyout",
       "prompt_number": 242,
       "text": [
        "495.5913139092507"
       ]
      }
     ],
     "prompt_number": 242
    },
    {
     "cell_type": "code",
     "collapsed": false,
     "input": [],
     "language": "python",
     "metadata": {},
     "outputs": [],
     "prompt_number": 242
    }
   ],
   "metadata": {}
  }
 ]
}