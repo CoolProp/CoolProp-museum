{
 "metadata": {
  "name": ""
 },
 "nbformat": 3,
 "nbformat_minor": 0,
 "worksheets": [
  {
   "cells": [
    {
     "cell_type": "heading",
     "level": 1,
     "metadata": {},
     "source": [
      "Forming the Phase Envelope"
     ]
    },
    {
     "cell_type": "heading",
     "level": 2,
     "metadata": {},
     "source": [
      "Overview"
     ]
    },
    {
     "cell_type": "markdown",
     "metadata": {},
     "source": [
      "The analysis in this section follows the methodologies proposed in the GERG 2004 monograph published in 2007\n",
      "\n",
      "System of Equations"
     ]
    },
    {
     "cell_type": "markdown",
     "metadata": {},
     "source": [
      "Our residual vector $\\mathbf{F}$ is equal to \n",
      "\n",
      "$$F_i = \\ln\\phi(T,p,\\mathbf{y})-\\ln \\phi(T,p,\\mathbf{x})+\\ln K_i=0,  i=1,2,3... N$$\n",
      "\n",
      "$$F_{N+1} = \\sum_{i=1}^{N}(y_i-x_i)=0$$\n",
      "    \n",
      "where\n",
      "\n",
      "$$x_i = \\frac{z_i}{1-\\beta+\\beta K_i}$$\n",
      "    \n",
      "and \n",
      "\n",
      "$$y_i = \\frac{K_iz_i}{1-\\beta+\\beta K_i}$$\n",
      "    \n",
      "$$F_{N+2} = X_s - S = 0$$\n",
      "    \n",
      "and the system to be solved is equal to\n",
      "\n",
      "$$\\mathbf{J}\\mathbf{\\Delta X}= -\\mathbf{F}$$\n",
      "    "
     ]
    },
    {
     "cell_type": "heading",
     "level": 2,
     "metadata": {},
     "source": [
      "Building the Jacobian matrix"
     ]
    },
    {
     "cell_type": "markdown",
     "metadata": {},
     "source": [
      "This is the trickiest part of this method.  There are a lot of derivatives to implement, and we want to implement all of them analytically.\n",
      "\n",
      "$$\\frac{\\partial F_i}{\\partial \\ln T} = T\\left[ \\left(\\frac{\\partial \\ln \\phi_i}{\\partial T}\\right)''_{p,\\mathbf{n}} -\\left(\\frac{\\partial \\ln \\phi_i}{\\partial T}\\right)'_{p,\\mathbf{n}}\\right]$$\n",
      "    \n",
      "$$\\frac{\\partial F_i}{\\partial \\ln p} = p\\left[ \\left(\\frac{\\partial \\ln \\phi_i}{\\partial p}\\right)''_{T,\\mathbf{n}} -\\left(\\frac{\\partial \\ln \\phi_i}{\\partial p}\\right)'_{T,\\mathbf{n}}\\right]$$\n",
      "    \n",
      "$$ \\frac{\\partial F_i}{\\partial \\ln K_j} = \\frac{K_jz_j}{(1-\\beta+\\beta K_j)^2}[(1-\\beta)\\phi_{ij}''+\\beta\\phi_{ij}']+\\zeta $$\n",
      "\n",
      "$\\zeta$ is the Kronecker delta or $\\zeta = 0$ for $i\\neq j$ , and  $\\zeta = 0$ for $i=j$.  Also\n",
      "\n",
      "$$\\phi_{ij} = n\\left( \\frac{\\partial \\ln \\phi_i}{\\partial n_j}\\right)_{T,p}$$\n",
      "\n",
      "For the $F_{N+1}$ term,\n",
      "\n",
      "$$\\frac{\\partial F_{N+1}}{\\partial \\ln K_j}=\\frac{K_jz_j}{(1-\\beta+\\beta K_j)^2}$$\n",
      "\n",
      "and all other partials of $F_{N+1}$ in the Jacobian are zero.  For the specified term\n",
      "\n",
      "$$\\frac{\\partial F_{N+2}}{X_s}=1$$\n",
      "    \n",
      "and all other partials of $F_{N+2}$ in the Jacobian are zero.\n",
      "\n",
      "From GERG 2004 Monograph, Eqn 7.27:\n",
      "\n",
      "\n",
      "$$\\ln \\phi_i  = \\left( \\frac{\\partial n\\alpha^r}{\\partial n_i}\\right)_{T,V,n_j}-\\ln Z$$\n",
      "        \n",
      "and (Kunz, 2012, Table B4)\n",
      "\n",
      "$$\\left( \\frac{\\partial n\\alpha^r}{\\partial n_i}\\right)_{T,V,n_j} = \\alpha^r + n\\left( \\frac{\\partial \\alpha^r}{\\partial n_i}\\right)_{T,V,n_j}$$\n",
      "        \n",
      "so\n",
      "\n",
      "$$\\ln \\phi_i  = \\alpha^r + n\\left( \\frac{\\partial \\alpha^r}{\\partial n_i}\\right)_{T,V,n_j}-\\ln Z$$"
     ]
    },
    {
     "cell_type": "heading",
     "level": 2,
     "metadata": {},
     "source": [
      "Density marching phase envelope construction(T,P)"
     ]
    },
    {
     "cell_type": "markdown",
     "metadata": {},
     "source": [
      "Another two alternatives have been proposed in A DENSITY MARCHING METHOD FOR CALCULATING PHASE ENVELOPES\n",
      "Gadhiraju Venkatarathnam, I&ECR, 2014\n",
      "\n",
      "In this paper, density marching methods are proposed rather than methods that march in temperature, pressure, or K-factor.\n",
      "\n",
      "The system of equations to be solved is similar to that of the GERG 2004 formulation, where the unknowns are $\\ln(T)$, $\\ln(p)$, and $\\ln(K_i)$\n",
      "\n",
      "(A1) - OK\n",
      "$$F_i = \\ln K_i+\\ln\\phi(T,p,\\mathbf{y})-\\ln \\phi(T,p,\\mathbf{x})=0,  i=1,2,3... N$$\n",
      "\n",
      "(A2) - OK\n",
      "$$F_{N+1} = \\sum_{i=1}^{N}\\frac{z_i(K_i-1)}{1-\\beta+\\beta K_i}=0$$\n",
      "    \n",
      "(A3) - TYPO, should be $\\ln(\\rho)$ rather than $\\rho$, and should be all on left-hand-side\n",
      "$$F_{N+2} = \\ln \\rho ''-\\ln\\rho''_{S} = 0$$\n",
      "\n",
      "(A6) - TYPO, missing an n to multiply the terms $\\left( \\frac{\\partial \\ln \\phi_i}{\\partial n_j}\\right)_{T,p}$\n",
      "$$ \\frac{\\partial F_i}{\\partial \\ln K_j} = \\frac{K_jz_j}{(1-\\beta+\\beta K_j)^2}[(1-\\beta)\\phi_{ij}''+\\beta\\phi_{ij}']+\\zeta $$\n",
      "\n",
      "$\\zeta$ is the Kronecker delta or $\\zeta = 0$ for $i\\neq j$ , and  $\\zeta = 0$ for $i=j$.\n",
      "\n",
      "(A7) - OK\n",
      "$$\\frac{\\partial F_i}{\\partial \\ln T} = T\\left[ \\left(\\frac{\\partial \\ln \\phi_i}{\\partial T}\\right)''_{p,\\mathbf{n}} -\\left(\\frac{\\partial \\ln \\phi_i}{\\partial T}\\right)'_{p,\\mathbf{n}}\\right]$$\n",
      "\n",
      "(A8) - OK\n",
      "$$\\frac{\\partial F_i}{\\partial \\ln p} = p\\left[ \\left(\\frac{\\partial \\ln \\phi_i}{\\partial p}\\right)''_{T,\\mathbf{n}} -\\left(\\frac{\\partial \\ln \\phi_i}{\\partial p}\\right)'_{T,\\mathbf{n}}\\right]$$\n",
      "    \n",
      "(A9) - OK\n",
      "$$\\frac{\\partial F_{N+1}}{\\partial \\ln K_j}=\\frac{K_jz_j}{(1-\\beta+\\beta K_j)^2}$$\n",
      "\n",
      "(A11) - OK\n",
      "$$ \\frac{\\partial F_{N+2}}{\\partial \\ln K_j} = \\frac{K_jz_j(1-\\beta)\\beta}{(1-\\beta+\\beta K_j)^2}\\left(n\\left(\\frac{\\partial \\rho}{\\partial n_j}\\right)''_{T,p}\\right)\\left(\\frac{1}{\\rho''_{S}}\\right)$$\n",
      "\n",
      "(A12) - OK\n",
      "$$\\frac{\\partial F_{N+2}}{\\partial \\ln T}=\\left(\\frac{\\partial \\rho}{\\partial T}\\right)''_{p,n}\\frac{T}{\\rho''_{S}}$$\n",
      "\n",
      "(A13) - OK\n",
      "$$\\frac{\\partial F_{N+2}}{\\partial \\ln p}=\\left(\\frac{\\partial \\rho}{\\partial p}\\right)''_{T,n}\\frac{p}{\\rho''_{S}}$$\n"
     ]
    },
    {
     "cell_type": "heading",
     "level": 2,
     "metadata": {},
     "source": [
      "Density marching phase envelope construction (density)"
     ]
    },
    {
     "cell_type": "markdown",
     "metadata": {},
     "source": [
      "Another two alternatives have been proposed in A DENSITY MARCHING METHOD FOR CALCULATING PHASE ENVELOPES\n",
      "Gadhiraju Venkatarathnam, I&ECR, 2014\n",
      "\n",
      "In this paper, density marching methods are proposed rather than methods that march in temperature, pressure, or K-factor.\n",
      "\n",
      "The system of equations to be solved is similar to that of the GERG 2004 formulation, where the unknowns are $\\ln(T)$, $\\ln(p)$, and $\\ln(K_i)$\n",
      "\n",
      "(A14) - OK\n",
      "$$F_i = \\ln K_i+\\ln\\phi(T,\\rho'',\\mathbf{y})-\\ln \\phi(T,\\rho',\\mathbf{x})=0,  i=1,2,3... N$$\n",
      "\n",
      "(A15) - OK\n",
      "$$F_{N+1} = \\sum_{i=1}^{N}\\frac{z_i(K_i-1)}{1-\\beta+\\beta K_i}=0$$\n",
      "    \n",
      "(A16) - OK\n",
      "$$F_{N+2} = p(T,\\rho',\\mathbf{y})-p(T,\\rho'',\\mathbf{x}) = 0$$\n",
      "\n",
      "(A17) - TYPO, missing an n to multiply the terms $\\left( \\frac{\\partial \\ln \\phi_i}{\\partial n_j}\\right)_{T,p}$\n",
      "$$ \\frac{\\partial F_i}{\\partial \\ln K_j} = \\frac{K_jz_j}{(1-\\beta+\\beta K_j)^2}[(1-\\beta)\\phi_{ij}''+\\beta\\phi_{ij}']+\\zeta $$\n",
      "\n",
      "$\\zeta$ is the Kronecker delta or $\\zeta = 0$ for $i\\neq j$ , and  $\\zeta = 0$ for $i=j$.\n",
      "\n",
      "(A18) - OK\n",
      "$$\\frac{\\partial F_i}{\\partial \\ln T} = T\\left[ \\left(\\frac{\\partial \\ln \\phi_i}{\\partial T}\\right)''_{p,\\mathbf{n}} -\\left(\\frac{\\partial \\ln \\phi_i}{\\partial T}\\right)'_{p,\\mathbf{n}}\\right]$$\n",
      "\n",
      "(A19) - OK\n",
      "$$\\frac{\\partial F_i}{\\partial \\ln \\rho'} = -\\rho'\\left(\\frac{\\partial \\ln \\phi_i}{\\partial \\rho}\\right)'_{T,n}$$\n",
      "    \n",
      "(A20) - OK\n",
      "$$\\frac{\\partial F_{N+1}}{\\partial \\ln K_j}=\\frac{K_jz_j}{(1-\\beta+\\beta K_j)^2}$$\n",
      "\n",
      "(A22) - TYPO Second derivative of ln(phi) with respect to rho' needs constraints, first needs to have the constraints in the right place\n",
      "$$ \\frac{\\partial F_{N+2}}{\\partial \\ln K_j} = \\frac{RTK_jz_j}{(1-\\beta+\\beta K_j)^2}\\left[(1-\\beta)\\left(\\frac{\\partial \\ln \\phi_i}{\\partial \\rho}\\right)''_{T,n}+\\beta\\left(\\frac{\\partial \\ln \\phi_i}{\\partial \\rho}\\right)'_{T,n}\\right]$$\n",
      "\n",
      "(A23) - TYPO Should be A23\n",
      "$$\\frac{\\partial F_{N+2}}{\\partial \\ln T}=T\\left[\\left(\\frac{\\partial p}{\\partial T}\\right)'_{\\rho',n}-\\left(\\frac{\\partial p}{\\partial T}\\right)''_{\\rho'',n} \\right]$$\n",
      "\n",
      "(A24) - TYPO Should be A24\n",
      "$$\\frac{\\partial F_{N+2}}{\\partial \\ln p'}=\\rho'\\left(\\frac{\\partial p}{\\partial \\rho}\\right)'_{T,n}$$\n"
     ]
    },
    {
     "cell_type": "heading",
     "level": 2,
     "metadata": {},
     "source": [
      "Other analytic derivatives"
     ]
    },
    {
     "cell_type": "markdown",
     "metadata": {},
     "source": [
      "Three analyic derivatives are not provided in GERG and need to be rederived:\n",
      "\n",
      "$$\\left(\\frac{\\partial \\ln \\phi_i}{\\partial \\rho}\\right)_{T,n}$$\n",
      "\n",
      "$$\\left(\\frac{\\partial \\ln \\phi_i}{\\partial T}\\right)_{\\rho,n}$$\n",
      "\n",
      "$$n\\left(\\frac{\\partial \\rho}{\\partial n_j}\\right)_{T,p}$$\n",
      "\n",
      "The last is for T,p marching, the first two are for density marching."
     ]
    }
   ],
   "metadata": {}
  }
 ]
}
